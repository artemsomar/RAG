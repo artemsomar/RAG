{
 "cells": [
  {
   "cell_type": "code",
   "execution_count": null,
   "id": "457c4ba3",
   "metadata": {
    "vscode": {
     "languageId": "plaintext"
    }
   },
   "outputs": [],
   "source": [
    "!git clone https://github.com/artemsomar/RAG.git"
   ]
  }
 ],
 "metadata": {
  "language_info": {
   "name": "python"
  }
 },
 "nbformat": 4,
 "nbformat_minor": 5
}
