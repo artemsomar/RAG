{
 "cells": [
  {
   "cell_type": "code",
   "execution_count": null,
   "id": "457c4ba3",
   "metadata": {
    "vscode": {
     "languageId": "plaintext"
    }
   },
   "outputs": [],
   "source": [
    "!git clone https://github.com/artemsomar/RAG.git"
   ]
  },
  {
   "cell_type": "code",
   "execution_count": null,
   "id": "8bad27af",
   "metadata": {
    "vscode": {
     "languageId": "plaintext"
    }
   },
   "outputs": [],
   "source": [
    "%cd RAG"
   ]
  },
  {
   "cell_type": "code",
   "execution_count": null,
   "id": "719bc1f0",
   "metadata": {
    "vscode": {
     "languageId": "plaintext"
    }
   },
   "outputs": [],
   "source": [
    "!pip install -r requirements.txt"
   ]
  },
  {
   "cell_type": "code",
   "execution_count": null,
   "id": "4fec2a53",
   "metadata": {
    "vscode": {
     "languageId": "plaintext"
    }
   },
   "outputs": [],
   "source": [
    "!python run.py"
   ]
  }
 ],
 "metadata": {
  "language_info": {
   "name": "python"
  }
 },
 "nbformat": 4,
 "nbformat_minor": 5
}
